{
 "cells": [
  {
   "cell_type": "markdown",
   "metadata": {},
   "source": [
    "hello\n",
    "\n",
    "$$\n",
    "y = ax^2 + bx + c \\\\\n",
    "\n",
    "x^2 + y^2 = a \\\\\n",
    "$$"
   ]
  }
 ],
 "metadata": {
  "language_info": {
   "name": "python"
  },
  "orig_nbformat": 4
 },
 "nbformat": 4,
 "nbformat_minor": 2
}

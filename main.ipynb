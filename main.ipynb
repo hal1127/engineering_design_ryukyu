{
 "cells": [
  {
   "cell_type": "markdown",
   "metadata": {},
   "source": [
    "hello\n",
    "\n",
    "$$ y = ax^2 + bx + c $$\n",
    "$$ x^2 + y^2 = a $$"
   ]
  }
 ],
 "metadata": {
  "language_info": {
   "name": "python"
  },
  "orig_nbformat": 4
 },
 "nbformat": 4,
 "nbformat_minor": 2
}

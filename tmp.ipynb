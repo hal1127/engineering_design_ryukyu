{
 "cells": [
  {
   "cell_type": "code",
   "execution_count": 3,
   "metadata": {},
   "outputs": [
    {
     "data": {
      "text/plain": [
       "'- \\\\frac{\\\\sqrt{\\\\frac{1}{- c t + z}}}{2 \\\\left(- c t + z\\\\right)}'"
      ]
     },
     "execution_count": 3,
     "metadata": {},
     "output_type": "execute_result"
    }
   ],
   "source": [
    "from sympy import *\n",
    "init_printing()\n",
    "\n",
    "z = Symbol(\"z\", real=True)\n",
    "t = Symbol(\"t\", positive=True)\n",
    "c = Symbol(\"c\", real=True)\n",
    "\n",
    "expr = sqrt(1/(z-c*t))\n",
    "expr = diff(expr, z)\n",
    "# expr = diff(expr, z)\n",
    "# print(expr)\n",
    "latex(expr)"
   ]
  },
  {
   "cell_type": "code",
   "execution_count": 75,
   "metadata": {},
   "outputs": [
    {
     "data": {
      "image/png": "[encoded data removed]",
      "text/latex": [
       "$\\displaystyle \\frac{3 c^{2} \\sqrt{\\frac{1}{- c t + z}}}{4 \\left(- c t + z\\right)^{2}}$"
      ],
      "text/plain": [
       "         __________\n",
       "   2    ╱    1     \n",
       "3⋅c ⋅  ╱  ──────── \n",
       "     ╲╱   -c⋅t + z \n",
       "───────────────────\n",
       "               2   \n",
       "   4⋅(-c⋅t + z)    "
      ]
     },
     "execution_count": 75,
     "metadata": {},
     "output_type": "execute_result"
    }
   ],
   "source": [
    "from sympy import *\n",
    "init_printing()\n",
    "\n",
    "z = Symbol(\"z\", real=True)\n",
    "t = Symbol(\"t\", positive=True)\n",
    "c = Symbol(\"c\", real=True)\n",
    "\n",
    "expr = sqrt(1/(z-c*t))\n",
    "expr = diff(expr, t)\n",
    "expr = diff(expr, t)\n",
    "expr"
   ]
  }
 ],
 "metadata": {
  "interpreter": {
   "hash": "67019d737cc6ef8f85c5078e64a827db487c0d52f8a093463b149c1ec02a49c6"
  },
  "kernelspec": {
   "display_name": "Python 3.8.12 64-bit ('py38': conda)",
   "language": "python",
   "name": "python3"
  },
  "language_info": {
   "codemirror_mode": {
    "name": "ipython",
    "version": 3
   },
   "file_extension": ".py",
   "mimetype": "text/x-python",
   "name": "python",
   "nbconvert_exporter": "python",
   "pygments_lexer": "ipython3",
   "version": "3.8.12"
  },
  "orig_nbformat": 4
 },
 "nbformat": 4,
 "nbformat_minor": 2
}
